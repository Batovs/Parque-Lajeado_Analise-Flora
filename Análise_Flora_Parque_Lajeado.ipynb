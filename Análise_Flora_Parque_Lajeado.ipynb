{
  "nbformat": 4,
  "nbformat_minor": 0,
  "metadata": {
    "colab": {
      "provenance": [],
      "authorship_tag": "ABX9TyNBV/Lz4bbxGyAsaZvbfrV3",
      "include_colab_link": true
    },
    "kernelspec": {
      "name": "python3",
      "display_name": "Python 3"
    },
    "language_info": {
      "name": "python"
    }
  },
  "cells": [
    {
      "cell_type": "markdown",
      "metadata": {
        "id": "view-in-github",
        "colab_type": "text"
      },
      "source": [
        "<a href=\"https://colab.research.google.com/github/Batovs/Parque-Lajeado_Analise-Flora/blob/main/An%C3%A1lise_Flora_Parque_Lajeado.ipynb\" target=\"_parent\"><img src=\"https://colab.research.google.com/assets/colab-badge.svg\" alt=\"Open In Colab\"/></a>"
      ]
    },
    {
      "cell_type": "code",
      "execution_count": 104,
      "metadata": {
        "id": "ty3_waB9SPjX"
      },
      "outputs": [],
      "source": [
        "#Bibliotecas\n",
        "import numpy as np\n",
        "import pandas as pd\n",
        "import matplotlib.pyplot as plt\n",
        "import seaborn as sns\n",
        "from palettable.scientific.sequential import Bamako_16"
      ]
    },
    {
      "cell_type": "code",
      "source": [
        "url = \"https://raw.githubusercontent.com/Batovs/Parque-Lajeado_Analise-Flora/main/Levantamento%20Parque%20lajeado%202021.csv\""
      ],
      "metadata": {
        "id": "U2_uceKCStjq"
      },
      "execution_count": 5,
      "outputs": []
    },
    {
      "cell_type": "code",
      "source": [
        "df = pd.read_csv(url,sep=';',encoding='latin1')\n",
        "df"
      ],
      "metadata": {
        "colab": {
          "base_uri": "https://localhost:8080/",
          "height": 537
        },
        "id": "r-Uzw04WSyWp",
        "outputId": "77c6bd18-7e61-4a63-aeb8-4176c4914289"
      },
      "execution_count": 23,
      "outputs": [
        {
          "output_type": "execute_result",
          "data": {
            "text/plain": [
              "    Parque Lajeado - Izaura Pereira de Souza Franzolin. Flora: última atualização do Herbário Municipal (PMSP) em 15/07/2021\\nGRUPO / FAMÍLIA / Espécie  \\\n",
              "0                                         ANGIOSPERMAS                                                                                                    \n",
              "1                                          ACANTHACEAE                                                                                                    \n",
              "2                        Eranthemum pulchellum Andrews                                                                                                    \n",
              "3               Odontonema tubaeforme (Bertol.) Kuntze                                                                                                    \n",
              "4                        Sanchezia oblonga Ruiz & Pav.                                                                                                    \n",
              "..                                                 ...                                                                                                    \n",
              "175  Neoblechnum brasiliense (Desv.) Gasper & V.A.O...                                                                                                    \n",
              "176                                        CYATHEACEAE                                                                                                    \n",
              "177                                        Cyathea sp.                                                                                                    \n",
              "178                                        LYGODIACEAE                                                                                                    \n",
              "179                              Lygodium volubile Sw.                                                                                                    \n",
              "\n",
              "            nome popular fonte de dados hábito status de conservação origem  \\\n",
              "0                    NaN            NaN    NaN                   NaN    NaN   \n",
              "1                    NaN            NaN    NaN                   NaN    NaN   \n",
              "2           camarão-azul              V     ee                   NaN      c   \n",
              "3             odontonema              H    arb                   NaN      c   \n",
              "4              sanquésia              V    arb                   NaN      c   \n",
              "..                   ...            ...    ...                   ...    ...   \n",
              "175  samambaia-do- brejo              V   eros                   NaN      n   \n",
              "176                  NaN            NaN    NaN                   NaN    NaN   \n",
              "177          samambaiuçu              V     fa                   NaN      n   \n",
              "178                  NaN            NaN    NaN                   NaN    NaN   \n",
              "179                  NaN              V     tr                   NaN      n   \n",
              "\n",
              "    guia  \n",
              "0    NaN  \n",
              "1    NaN  \n",
              "2    NaN  \n",
              "3    NaN  \n",
              "4    NaN  \n",
              "..   ...  \n",
              "175  NaN  \n",
              "176  NaN  \n",
              "177  NaN  \n",
              "178  NaN  \n",
              "179  NaN  \n",
              "\n",
              "[180 rows x 7 columns]"
            ],
            "text/html": [
              "\n",
              "  <div id=\"df-612c5a23-dcb0-44b1-9344-6145a4335a47\">\n",
              "    <div class=\"colab-df-container\">\n",
              "      <div>\n",
              "<style scoped>\n",
              "    .dataframe tbody tr th:only-of-type {\n",
              "        vertical-align: middle;\n",
              "    }\n",
              "\n",
              "    .dataframe tbody tr th {\n",
              "        vertical-align: top;\n",
              "    }\n",
              "\n",
              "    .dataframe thead th {\n",
              "        text-align: right;\n",
              "    }\n",
              "</style>\n",
              "<table border=\"1\" class=\"dataframe\">\n",
              "  <thead>\n",
              "    <tr style=\"text-align: right;\">\n",
              "      <th></th>\n",
              "      <th>Parque Lajeado - Izaura Pereira de Souza Franzolin. Flora: última atualização do Herbário Municipal (PMSP) em 15/07/2021\\nGRUPO / FAMÍLIA / Espécie</th>\n",
              "      <th>nome popular</th>\n",
              "      <th>fonte de dados</th>\n",
              "      <th>hábito</th>\n",
              "      <th>status de conservação</th>\n",
              "      <th>origem</th>\n",
              "      <th>guia</th>\n",
              "    </tr>\n",
              "  </thead>\n",
              "  <tbody>\n",
              "    <tr>\n",
              "      <th>0</th>\n",
              "      <td>ANGIOSPERMAS</td>\n",
              "      <td>NaN</td>\n",
              "      <td>NaN</td>\n",
              "      <td>NaN</td>\n",
              "      <td>NaN</td>\n",
              "      <td>NaN</td>\n",
              "      <td>NaN</td>\n",
              "    </tr>\n",
              "    <tr>\n",
              "      <th>1</th>\n",
              "      <td>ACANTHACEAE</td>\n",
              "      <td>NaN</td>\n",
              "      <td>NaN</td>\n",
              "      <td>NaN</td>\n",
              "      <td>NaN</td>\n",
              "      <td>NaN</td>\n",
              "      <td>NaN</td>\n",
              "    </tr>\n",
              "    <tr>\n",
              "      <th>2</th>\n",
              "      <td>Eranthemum pulchellum Andrews</td>\n",
              "      <td>camarão-azul</td>\n",
              "      <td>V</td>\n",
              "      <td>ee</td>\n",
              "      <td>NaN</td>\n",
              "      <td>c</td>\n",
              "      <td>NaN</td>\n",
              "    </tr>\n",
              "    <tr>\n",
              "      <th>3</th>\n",
              "      <td>Odontonema tubaeforme (Bertol.) Kuntze</td>\n",
              "      <td>odontonema</td>\n",
              "      <td>H</td>\n",
              "      <td>arb</td>\n",
              "      <td>NaN</td>\n",
              "      <td>c</td>\n",
              "      <td>NaN</td>\n",
              "    </tr>\n",
              "    <tr>\n",
              "      <th>4</th>\n",
              "      <td>Sanchezia oblonga Ruiz &amp; Pav.</td>\n",
              "      <td>sanquésia</td>\n",
              "      <td>V</td>\n",
              "      <td>arb</td>\n",
              "      <td>NaN</td>\n",
              "      <td>c</td>\n",
              "      <td>NaN</td>\n",
              "    </tr>\n",
              "    <tr>\n",
              "      <th>...</th>\n",
              "      <td>...</td>\n",
              "      <td>...</td>\n",
              "      <td>...</td>\n",
              "      <td>...</td>\n",
              "      <td>...</td>\n",
              "      <td>...</td>\n",
              "      <td>...</td>\n",
              "    </tr>\n",
              "    <tr>\n",
              "      <th>175</th>\n",
              "      <td>Neoblechnum brasiliense (Desv.) Gasper &amp; V.A.O...</td>\n",
              "      <td>samambaia-do- brejo</td>\n",
              "      <td>V</td>\n",
              "      <td>eros</td>\n",
              "      <td>NaN</td>\n",
              "      <td>n</td>\n",
              "      <td>NaN</td>\n",
              "    </tr>\n",
              "    <tr>\n",
              "      <th>176</th>\n",
              "      <td>CYATHEACEAE</td>\n",
              "      <td>NaN</td>\n",
              "      <td>NaN</td>\n",
              "      <td>NaN</td>\n",
              "      <td>NaN</td>\n",
              "      <td>NaN</td>\n",
              "      <td>NaN</td>\n",
              "    </tr>\n",
              "    <tr>\n",
              "      <th>177</th>\n",
              "      <td>Cyathea sp.</td>\n",
              "      <td>samambaiuçu</td>\n",
              "      <td>V</td>\n",
              "      <td>fa</td>\n",
              "      <td>NaN</td>\n",
              "      <td>n</td>\n",
              "      <td>NaN</td>\n",
              "    </tr>\n",
              "    <tr>\n",
              "      <th>178</th>\n",
              "      <td>LYGODIACEAE</td>\n",
              "      <td>NaN</td>\n",
              "      <td>NaN</td>\n",
              "      <td>NaN</td>\n",
              "      <td>NaN</td>\n",
              "      <td>NaN</td>\n",
              "      <td>NaN</td>\n",
              "    </tr>\n",
              "    <tr>\n",
              "      <th>179</th>\n",
              "      <td>Lygodium volubile Sw.</td>\n",
              "      <td>NaN</td>\n",
              "      <td>V</td>\n",
              "      <td>tr</td>\n",
              "      <td>NaN</td>\n",
              "      <td>n</td>\n",
              "      <td>NaN</td>\n",
              "    </tr>\n",
              "  </tbody>\n",
              "</table>\n",
              "<p>180 rows × 7 columns</p>\n",
              "</div>\n",
              "      <button class=\"colab-df-convert\" onclick=\"convertToInteractive('df-612c5a23-dcb0-44b1-9344-6145a4335a47')\"\n",
              "              title=\"Convert this dataframe to an interactive table.\"\n",
              "              style=\"display:none;\">\n",
              "        \n",
              "  <svg xmlns=\"http://www.w3.org/2000/svg\" height=\"24px\"viewBox=\"0 0 24 24\"\n",
              "       width=\"24px\">\n",
              "    <path d=\"M0 0h24v24H0V0z\" fill=\"none\"/>\n",
              "    <path d=\"M18.56 5.44l.94 2.06.94-2.06 2.06-.94-2.06-.94-.94-2.06-.94 2.06-2.06.94zm-11 1L8.5 8.5l.94-2.06 2.06-.94-2.06-.94L8.5 2.5l-.94 2.06-2.06.94zm10 10l.94 2.06.94-2.06 2.06-.94-2.06-.94-.94-2.06-.94 2.06-2.06.94z\"/><path d=\"M17.41 7.96l-1.37-1.37c-.4-.4-.92-.59-1.43-.59-.52 0-1.04.2-1.43.59L10.3 9.45l-7.72 7.72c-.78.78-.78 2.05 0 2.83L4 21.41c.39.39.9.59 1.41.59.51 0 1.02-.2 1.41-.59l7.78-7.78 2.81-2.81c.8-.78.8-2.07 0-2.86zM5.41 20L4 18.59l7.72-7.72 1.47 1.35L5.41 20z\"/>\n",
              "  </svg>\n",
              "      </button>\n",
              "      \n",
              "  <style>\n",
              "    .colab-df-container {\n",
              "      display:flex;\n",
              "      flex-wrap:wrap;\n",
              "      gap: 12px;\n",
              "    }\n",
              "\n",
              "    .colab-df-convert {\n",
              "      background-color: #E8F0FE;\n",
              "      border: none;\n",
              "      border-radius: 50%;\n",
              "      cursor: pointer;\n",
              "      display: none;\n",
              "      fill: #1967D2;\n",
              "      height: 32px;\n",
              "      padding: 0 0 0 0;\n",
              "      width: 32px;\n",
              "    }\n",
              "\n",
              "    .colab-df-convert:hover {\n",
              "      background-color: #E2EBFA;\n",
              "      box-shadow: 0px 1px 2px rgba(60, 64, 67, 0.3), 0px 1px 3px 1px rgba(60, 64, 67, 0.15);\n",
              "      fill: #174EA6;\n",
              "    }\n",
              "\n",
              "    [theme=dark] .colab-df-convert {\n",
              "      background-color: #3B4455;\n",
              "      fill: #D2E3FC;\n",
              "    }\n",
              "\n",
              "    [theme=dark] .colab-df-convert:hover {\n",
              "      background-color: #434B5C;\n",
              "      box-shadow: 0px 1px 3px 1px rgba(0, 0, 0, 0.15);\n",
              "      filter: drop-shadow(0px 1px 2px rgba(0, 0, 0, 0.3));\n",
              "      fill: #FFFFFF;\n",
              "    }\n",
              "  </style>\n",
              "\n",
              "      <script>\n",
              "        const buttonEl =\n",
              "          document.querySelector('#df-612c5a23-dcb0-44b1-9344-6145a4335a47 button.colab-df-convert');\n",
              "        buttonEl.style.display =\n",
              "          google.colab.kernel.accessAllowed ? 'block' : 'none';\n",
              "\n",
              "        async function convertToInteractive(key) {\n",
              "          const element = document.querySelector('#df-612c5a23-dcb0-44b1-9344-6145a4335a47');\n",
              "          const dataTable =\n",
              "            await google.colab.kernel.invokeFunction('convertToInteractive',\n",
              "                                                     [key], {});\n",
              "          if (!dataTable) return;\n",
              "\n",
              "          const docLinkHtml = 'Like what you see? Visit the ' +\n",
              "            '<a target=\"_blank\" href=https://colab.research.google.com/notebooks/data_table.ipynb>data table notebook</a>'\n",
              "            + ' to learn more about interactive tables.';\n",
              "          element.innerHTML = '';\n",
              "          dataTable['output_type'] = 'display_data';\n",
              "          await google.colab.output.renderOutput(dataTable, element);\n",
              "          const docLink = document.createElement('div');\n",
              "          docLink.innerHTML = docLinkHtml;\n",
              "          element.appendChild(docLink);\n",
              "        }\n",
              "      </script>\n",
              "    </div>\n",
              "  </div>\n",
              "  "
            ]
          },
          "metadata": {},
          "execution_count": 23
        }
      ]
    },
    {
      "cell_type": "code",
      "source": [
        "#Dicinários das Legendas\n",
        "#Legenda Hábito\n",
        "habito = {\n",
        "          'arb':'arbusto', 'árv':'árvore', 'avt':'arvoreta',\n",
        "          'b':'bambu', 'dr':'dracenoide', 'eces':'erva cespitosa',\n",
        "          'ee':'erva ereta', 'eriz':'erva rizomatosa', \n",
        "          'fa': 'feto arborescente', 'he':'hemiepifita',\n",
        "          'pc':'palmeira cespitoso', 'pu':'palmeira único', 'tr':'trepadeira',\n",
        "          'suba':'subarousto', 'eros':'erva rosulada', 'era':'erva rastejante'\n",
        "        }\n",
        "\n",
        "#Legenda\n"
      ],
      "metadata": {
        "id": "JunPwLtzWAAc"
      },
      "execution_count": 144,
      "outputs": []
    },
    {
      "cell_type": "code",
      "source": [
        "df = df.replace({'hábito':habito})"
      ],
      "metadata": {
        "id": "RwE1U9c6Zsmt"
      },
      "execution_count": 145,
      "outputs": []
    },
    {
      "cell_type": "code",
      "source": [
        "df.count()"
      ],
      "metadata": {
        "colab": {
          "base_uri": "https://localhost:8080/"
        },
        "id": "j9HiArO_bI3A",
        "outputId": "e75d05af-9811-48b3-ed38-8d9124126d1c"
      },
      "execution_count": 146,
      "outputs": [
        {
          "output_type": "execute_result",
          "data": {
            "text/plain": [
              "Parque Lajeado - Izaura Pereira de Souza Franzolin. Flora: última atualização do Herbário Municipal (PMSP) em 15/07/2021\\nGRUPO / FAMÍLIA / Espécie    180\n",
              "nome popular                                                                                                                                           105\n",
              "fonte de dados                                                                                                                                         126\n",
              "hábito                                                                                                                                                 126\n",
              "status de conservação                                                                                                                                    5\n",
              "origem                                                                                                                                                 126\n",
              "guia                                                                                                                                                    19\n",
              "dtype: int64"
            ]
          },
          "metadata": {},
          "execution_count": 146
        }
      ]
    },
    {
      "cell_type": "code",
      "source": [
        "from palettable.scientific.sequential import Bamako_16 #Paleta de cores\n",
        "\n",
        "\n",
        "#Gráfico de Barras dos hábitos\n",
        "plt.figure(figsize=(9,6))\n",
        "valores = df['hábito'].dropna().value_counts().reset_index()\n",
        "\n",
        "\n",
        "# Criar o gráfico de colunas com seaborn\n",
        "sns.barplot(data=valores, x='hábito', y='index', palette=Bamako_16.mpl_colors)\n",
        "\n",
        "\n",
        "# Adicionar rótulos e título\n",
        "plt.xlabel('Contagem')\n",
        "plt.ylabel('Tipo')\n",
        "plt.title('Distribuição Hábitos das Espécies')\n",
        "\n",
        "\n",
        "plt.savefig('Distribuição Hábitos das Espécies')\n",
        "plt.show()"
      ],
      "metadata": {
        "colab": {
          "base_uri": "https://localhost:8080/",
          "height": 524
        },
        "id": "XTCTf7AVbMiQ",
        "outputId": "56cfed42-f6e8-4285-f75f-5f4e4edc8b1b"
      },
      "execution_count": 147,
      "outputs": [
        {
          "output_type": "display_data",
          "data": {
            "text/plain": [
              "<Figure size 900x600 with 1 Axes>"
            ],
            "image/png": "[encoded data removed]"
          },
          "metadata": {}
        }
      ]
    },
    {
      "cell_type": "code",
      "source": [
        "valores = df['hábito'].dropna().value_counts()\n",
        "valores"
      ],
      "metadata": {
        "colab": {
          "base_uri": "https://localhost:8080/"
        },
        "id": "J2r7Cy3_jIGi",
        "outputId": "d244004e-3866-4ecb-c5d5-4cc30ad62fc8"
      },
      "execution_count": 135,
      "outputs": [
        {
          "output_type": "execute_result",
          "data": {
            "text/plain": [
              "árvore                47\n",
              "arvoreta              25\n",
              "arbusto               10\n",
              "erva rizomatosa        8\n",
              "trepadeira             8\n",
              "era                    4\n",
              "erva ereta             3\n",
              "hemiepifita            3\n",
              "palmeira único         3\n",
              "subarousto             3\n",
              "bambu                  3\n",
              "erva cespitosa         3\n",
              "palmeira cespitoso     2\n",
              "dracenoide             2\n",
              "erva rosulada          1\n",
              "feto arborescente      1\n",
              "Name: hábito, dtype: int64"
            ]
          },
          "metadata": {},
          "execution_count": 135
        }
      ]
    }
  ]
}